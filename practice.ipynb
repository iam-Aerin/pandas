{
 "cells": [
  {
   "cell_type": "markdown",
   "id": "0cace4bd-db7d-460a-854c-3821e9f4678a",
   "metadata": {},
   "source": [
    "## seaborn 의 dataframe (csv.file)을 불러와서 오늘 배운 내용 적용해보기~"
   ]
  },
  {
   "cell_type": "code",
   "execution_count": null,
   "id": "242c2072-e728-47a6-a4d7-b20877774ee8",
   "metadata": {},
   "outputs": [],
   "source": []
  }
 ],
 "metadata": {
  "kernelspec": {
   "display_name": "Python 3 (ipykernel)",
   "language": "python",
   "name": "python3"
  },
  "language_info": {
   "codemirror_mode": {
    "name": "ipython",
    "version": 3
   },
   "file_extension": ".py",
   "mimetype": "text/x-python",
   "name": "python",
   "nbconvert_exporter": "python",
   "pygments_lexer": "ipython3",
   "version": "3.13.2"
  }
 },
 "nbformat": 4,
 "nbformat_minor": 5
}
