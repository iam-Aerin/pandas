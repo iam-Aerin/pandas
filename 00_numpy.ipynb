{
 "cells": [
  {
   "cell_type": "code",
   "execution_count": 1,
   "id": "54f07fce-14e2-405c-88a5-d00184eefb9c",
   "metadata": {},
   "outputs": [],
   "source": [
    "import numpy as np\n",
    "\n",
    "my_list = list(range(1000000))\n",
    "my_array = np.arange(1000000)"
   ]
  },
  {
   "cell_type": "code",
   "execution_count": 2,
   "id": "3cbe40b4-8e3a-490d-a7b1-6cf4cb178cf2",
   "metadata": {},
   "outputs": [],
   "source": [
    "my_list2 = [i * 2 for i in my_list]\n",
    "# list comprehension 으로 my_list 안의 숫자 리스트 안의 모든 숫자들을 곱하기 2 하는 방법\n",
    "\n",
    "my_array = my_array * 2\n",
    "#numpy 라이브러리로는 이렇게 간단하게 곱하기 2"
   ]
  },
  {
   "cell_type": "code",
   "execution_count": 3,
   "id": "0e6853e0-4d82-4397-ba8f-dc5ab2985647",
   "metadata": {},
   "outputs": [
    {
     "name": "stdout",
     "output_type": "stream",
     "text": [
      "41.4 ms ± 10.6 ms per loop (mean ± std. dev. of 7 runs, 10 loops each)\n",
      "2.66 ms ± 204 μs per loop (mean ± std. dev. of 7 runs, 100 loops each)\n"
     ]
    }
   ],
   "source": [
    "%timeit my_list2 = [i * 2 for i in my_list]\n",
    "%timeit my_array2 = my_array * 2\n",
    "# %timeit 이라는 명령어를 통해, 이 연산을 처리하는데 얼마 만큼의 시간이 걸리는 지를 측정할 수 있음.\n",
    "# numpy 를 왜 써야 하는 지를 알려줌! 숫자 배열에 특화되어있다. "
   ]
  },
  {
   "cell_type": "code",
   "execution_count": 4,
   "id": "c73f83b1-8add-4c19-9a46-39db36c7cf81",
   "metadata": {},
   "outputs": [
    {
     "name": "stdout",
     "output_type": "stream",
     "text": [
      "[[   1.     1.2    3. ]\n",
      " [-123.   123.     0. ]]\n"
     ]
    }
   ],
   "source": [
    "#2차원 형태 (;리스트 안의 리스트)의 a 라는 리스트를 생성\n",
    "a = [\n",
    "    [1, 1.2, 3],\n",
    "    [-123, 123, 0]\n",
    "]\n",
    "data = np.array(a)\n",
    "print(data)\n",
    "# 일괄적으로 (넓은 범위의 데이터로) 형태가 맞춰진 상태 - 소수로"
   ]
  },
  {
   "cell_type": "code",
   "execution_count": 5,
   "id": "83d004e4-3925-4e89-a36a-20ad96cf6352",
   "metadata": {},
   "outputs": [],
   "source": [
    "#np 는 연산이 꽤나 편하다. "
   ]
  },
  {
   "cell_type": "code",
   "execution_count": 6,
   "id": "b0e2be1e-eab5-428f-8971-3ab24f47ba07",
   "metadata": {},
   "outputs": [
    {
     "name": "stdout",
     "output_type": "stream",
     "text": [
      "[[   10.    12.    30.]\n",
      " [-1230.  1230.     0.]]\n",
      "[[   2.     2.4    6. ]\n",
      " [-246.   246.     0. ]]\n"
     ]
    }
   ],
   "source": [
    "print(data * 10)\n",
    "# 곱셈 연산을 할 때, 각각 하나의 데이터에 곱셈을 바로 해준다. \n",
    "# 각각 아이템으로 곱셈 연산을 하게된다. \n",
    "# python 에서는 list 를 통해 반복되는데\n",
    "\n",
    "# 0차원 : 스칼라 (scala), 1차원 : 백터 (vector), 2차원 : 행렬 (matrix), 3차원 : 텐서 (tenser)\n",
    "# scala : 단일 요소의 데이터에 대한 곱셈 연산 이라고 생각하자. \n",
    "# 파이썬 기본 문법과는 연산이 다르게 적용된다. \n",
    "\n",
    "print(data + data)\n",
    "# 덧셈도 마찬가지"
   ]
  },
  {
   "cell_type": "code",
   "execution_count": 7,
   "id": "1fc73dda-c35b-402c-a348-4e059663e0bd",
   "metadata": {},
   "outputs": [
    {
     "name": "stdout",
     "output_type": "stream",
     "text": [
      "(2, 3)\n",
      "float64\n"
     ]
    }
   ],
   "source": [
    "print(data.shape)\n",
    "# 가장 큰 단위의 배열의 개수를 출력 - 배열 안의 배열 안의 배열, ...\n",
    "print(data.dtype)\n",
    "# 데이터의 세부 타입\n",
    "# float; 실수"
   ]
  },
  {
   "cell_type": "markdown",
   "id": "7c802bea-c91e-458d-8d22-dbd983813252",
   "metadata": {},
   "source": [
    "## ndarry 생성하기"
   ]
  },
  {
   "cell_type": "code",
   "execution_count": 8,
   "id": "c22eac37-e8f5-4254-8fbf-0ddf2581c224",
   "metadata": {},
   "outputs": [
    {
     "name": "stdout",
     "output_type": "stream",
     "text": [
      "[1 2 3 4 5]\n",
      "<class 'numpy.ndarray'>\n"
     ]
    }
   ],
   "source": [
    "data1 = [1, 2, 3, 4, 5]\n",
    "arr1 = np.array(data1)\n",
    "print(arr1)\n",
    "print(type(arr1))"
   ]
  },
  {
   "cell_type": "code",
   "execution_count": 9,
   "id": "64be881d-0115-4e36-bf5c-75193ce86bc3",
   "metadata": {},
   "outputs": [
    {
     "name": "stdout",
     "output_type": "stream",
     "text": [
      "[[1.1 2.2]\n",
      " [3.3 4.4]]\n",
      "<class 'numpy.ndarray'>\n"
     ]
    }
   ],
   "source": [
    "arr2 = np.array([[1.1, 2.2], [3.3, 4.4]])\n",
    "print(arr2)\n",
    "print(type(arr2))"
   ]
  },
  {
   "cell_type": "code",
   "execution_count": 10,
   "id": "a1074e16-188c-4210-be8a-3d90c73d001e",
   "metadata": {},
   "outputs": [
    {
     "name": "stdout",
     "output_type": "stream",
     "text": [
      "1\n",
      "2\n"
     ]
    }
   ],
   "source": [
    "print(arr1.ndim)\n",
    "print(arr2.ndim)\n",
    "#배열의 차원수를 알려주는 명령어 .ndim"
   ]
  },
  {
   "cell_type": "code",
   "execution_count": 11,
   "id": "c00babe1-0945-4699-8d9e-aa831032e53c",
   "metadata": {},
   "outputs": [
    {
     "name": "stdout",
     "output_type": "stream",
     "text": [
      "(5,)\n",
      "(2, 2)\n"
     ]
    }
   ],
   "source": [
    "print(arr1.shape)\n",
    "print(arr2.shape)"
   ]
  },
  {
   "cell_type": "code",
   "execution_count": 12,
   "id": "a193a192-a4cb-4eab-9713-6e0a2129ee25",
   "metadata": {},
   "outputs": [
    {
     "name": "stdout",
     "output_type": "stream",
     "text": [
      "[0. 0. 0. 0. 0. 0. 0. 0. 0. 0.]\n",
      "[0, 0, 0, 0, 0, 0, 0, 0, 0, 0]\n",
      "[[0. 0. 0. 0. 0.]\n",
      " [0. 0. 0. 0. 0.]\n",
      " [0. 0. 0. 0. 0.]\n",
      " [0. 0. 0. 0. 0.]\n",
      " [0. 0. 0. 0. 0.]]\n",
      "[[[0. 0.]\n",
      "  [0. 0.]]\n",
      "\n",
      " [[0. 0.]\n",
      "  [0. 0.]]]\n"
     ]
    }
   ],
   "source": [
    "## 이부분 뭔가 이상한 거 같아 git 보고 수정하기!!\n",
    "\n",
    "print(np.zeros(10))\n",
    "print([0] * 10)\n",
    "# 숫자 리스트에서는 두번째 방법으로 리스트를 만들었던 것과 동일한 방법임\n",
    "print(np.zeros(   (5, 5)  ))\n",
    "print(np.empty((2, 2, 2)))\n",
    "# 메모리 상의 아무값 - 난수가 들어간 리스트가 생성됨. "
   ]
  },
  {
   "cell_type": "code",
   "execution_count": 13,
   "id": "20ae2ed4-530e-4bac-936a-1b56c611f016",
   "metadata": {},
   "outputs": [
    {
     "name": "stdout",
     "output_type": "stream",
     "text": [
      "[0 1 2 3 4 5 6 7 8 9]\n"
     ]
    }
   ],
   "source": [
    "print(np.arange(10))"
   ]
  },
  {
   "cell_type": "markdown",
   "id": "5a0a1e02-d705-4904-896f-f8672e5f7a61",
   "metadata": {},
   "source": [
    "## ndarray 자료형"
   ]
  },
  {
   "cell_type": "code",
   "execution_count": 14,
   "id": "37e2b3b6-41f4-4154-84c1-e04604c301cf",
   "metadata": {},
   "outputs": [
    {
     "name": "stdout",
     "output_type": "stream",
     "text": [
      "float64\n",
      "int32\n"
     ]
    }
   ],
   "source": [
    "arr1 = np.array([1, 2, 3], dtype=np.float64)\n",
    "arr2 = np.array([1, 2, 3], dtype=np.int32)\n",
    "#생성 할 때, 형을 지정해서 생성하도록 명령하는 것\n",
    "print(arr1.dtype)\n",
    "print(arr2.dtype)"
   ]
  },
  {
   "cell_type": "code",
   "execution_count": 15,
   "id": "5e8320c9-be46-4f43-9e1a-57c3d5bb87ae",
   "metadata": {},
   "outputs": [
    {
     "name": "stdout",
     "output_type": "stream",
     "text": [
      "int64\n",
      "[1. 2. 3.]\n",
      "float64\n"
     ]
    }
   ],
   "source": [
    "arr1 = np.array([1, 2, 3])\n",
    "print(arr1.dtype)\n",
    "#명시적으로 형변환을 하려면 원래 int64 에서 => \n",
    "float_arr1 = arr1.astype(np.float64)\n",
    "print(float_arr1)\n",
    "print(float_arr1.dtype)"
   ]
  },
  {
   "cell_type": "code",
   "execution_count": 16,
   "id": "d225aab6-cc02-4d9f-b928-777c7b80c726",
   "metadata": {},
   "outputs": [
    {
     "name": "stdout",
     "output_type": "stream",
     "text": [
      "float64\n",
      "[1 2 3 9]\n",
      "int64\n"
     ]
    }
   ],
   "source": [
    "arr2 = np.array([1.1, 2.2, 3.3, 9.9])\n",
    "print(arr2.dtype)\n",
    "int_arr2 = arr2.astype(np.int64)\n",
    "print(int_arr2)\n",
    "print(int_arr2.dtype)"
   ]
  },
  {
   "cell_type": "markdown",
   "id": "915f3fce-f344-48e1-ba14-3070bd99f36e",
   "metadata": {},
   "source": [
    "## 산술 연산"
   ]
  },
  {
   "cell_type": "code",
   "execution_count": 17,
   "id": "c87ab0e8-c227-4ef1-a3f0-0edffde36ce5",
   "metadata": {},
   "outputs": [
    {
     "name": "stdout",
     "output_type": "stream",
     "text": [
      "[[1 2 3]\n",
      " [4 5 6]]\n",
      "[[ 1  4  9]\n",
      " [16 25 36]]\n",
      "[[ 2  4  6]\n",
      " [ 8 10 12]]\n",
      "[[1.         0.5        0.33333333]\n",
      " [0.25       0.2        0.16666667]]\n",
      "[[  1   8  27]\n",
      " [ 64 125 216]]\n"
     ]
    }
   ],
   "source": [
    "arr = np.array([[1, 2, 3], [4, 5, 6]])\n",
    "print(arr)\n",
    "print(arr * arr)\n",
    "#같은 위치에 있는 값들끼리를 곱한다. \n",
    "print(arr + arr)\n",
    "print(1 / arr)\n",
    "print(arr ** 3)"
   ]
  },
  {
   "cell_type": "code",
   "execution_count": 18,
   "id": "fcb2a99b-3b5f-4a34-9811-57c54cd5cdcb",
   "metadata": {},
   "outputs": [],
   "source": [
    "# 같은 위치의 데이터끼리의 사칙연산이 기본값이다. "
   ]
  },
  {
   "cell_type": "code",
   "execution_count": 19,
   "id": "c8415f42-3ca3-4089-8be6-7eb0e334775c",
   "metadata": {},
   "outputs": [
    {
     "name": "stdout",
     "output_type": "stream",
     "text": [
      "[[1 2 3]\n",
      " [4 5 6]]\n",
      "[[3 2 1]\n",
      " [1 2 3]]\n",
      "[[False False  True]\n",
      " [ True  True  True]]\n",
      "[[False False  True]\n",
      " [False False False]]\n"
     ]
    }
   ],
   "source": [
    "arr2 = np.array([[3, 2, 1], [1, 2, 3]])\n",
    "print(arr)\n",
    "print(arr2)\n",
    "print(arr > arr2)\n",
    "# 비교 연산 (부등호, ... ) 많이 쓰게 될 것이다. \n",
    "print(arr == 3)\n",
    "# == 조건에 부합하는 결과를 새로운 리스트로 반환을 하게 된다. "
   ]
  },
  {
   "cell_type": "markdown",
   "id": "c5cc5c81-4d53-480e-a3b9-c7ea53fdfc77",
   "metadata": {},
   "source": [
    "## 색인과 슬라이싱\n",
    "(indexing, slicing)"
   ]
  },
  {
   "cell_type": "code",
   "execution_count": 20,
   "id": "53ac1bbc-908e-4d43-a7e9-dc1aeca72be9",
   "metadata": {},
   "outputs": [
    {
     "name": "stdout",
     "output_type": "stream",
     "text": [
      "[0 1 2 3 4 5 6 7 8 9]\n"
     ]
    }
   ],
   "source": [
    "arr = np.arange(10)\n",
    "print(arr)"
   ]
  },
  {
   "cell_type": "code",
   "execution_count": 21,
   "id": "023d6769-1f01-456b-bf71-83edfcc7d61e",
   "metadata": {},
   "outputs": [
    {
     "name": "stdout",
     "output_type": "stream",
     "text": [
      "5\n",
      "[2 3 4]\n"
     ]
    }
   ],
   "source": [
    "print(arr[5])\n",
    "print(arr[2:5])\n",
    "#2번째 데이터 부터 5번째 데이터 전까지를 슬라이싱"
   ]
  },
  {
   "cell_type": "code",
   "execution_count": 22,
   "id": "3805f4da-1cb1-4216-b48c-586fe51b5c6c",
   "metadata": {},
   "outputs": [
    {
     "name": "stdout",
     "output_type": "stream",
     "text": [
      "[ 0  1 10 10 10  5  6  7  8  9]\n"
     ]
    }
   ],
   "source": [
    "arr[2:5] = 10\n",
    "#list를 자른 다음에 거기에 10이라는 값을 집어넣는다. \n",
    "print(arr)\n",
    "#자른 다음 대입을 했는데, 원본 데이터가 변경된다. => 파이썬의 문법과는 다름. 원본에 바로 적용되도록 설계가 되어있다. "
   ]
  },
  {
   "cell_type": "code",
   "execution_count": 23,
   "id": "fa9eebe7-4427-46a8-9937-f3e782704c4c",
   "metadata": {},
   "outputs": [
    {
     "name": "stdout",
     "output_type": "stream",
     "text": [
      "[1, 2, 3, 4, 5]\n"
     ]
    }
   ],
   "source": [
    "py_list = [1, 2, 3, 4, 5]\n",
    "py_list[2:3].pop()\n",
    "print(py_list)\n",
    "#파이썬 기준으로 원본은 그대로, 변형되지 않는다. "
   ]
  },
  {
   "cell_type": "code",
   "execution_count": 24,
   "id": "d312a3f8-25bb-499b-82ab-8e5637632231",
   "metadata": {},
   "outputs": [
    {
     "name": "stdout",
     "output_type": "stream",
     "text": [
      "[[1 2 3]\n",
      " [4 5 6]]\n"
     ]
    }
   ],
   "source": [
    "#2차원 데이터에 접근하는 방법\n",
    "arr = np.array([[1, 2, 3], [4, 5, 6]])\n",
    "print(arr)\n"
   ]
  },
  {
   "cell_type": "code",
   "execution_count": 25,
   "id": "b8c88c39-f198-4a89-8c9f-d3111f672f0c",
   "metadata": {},
   "outputs": [
    {
     "name": "stdout",
     "output_type": "stream",
     "text": [
      "[4 5 6]\n",
      "5\n",
      "5\n"
     ]
    }
   ],
   "source": [
    "print(arr[1])\n",
    "print(arr[1][1])\n",
    "print(arr[1, 1])\n",
    "# 편하게 인덱스 접근을 할 수 있게, np에서는 두번째와 세번째 표현 방법 [인덱스] [접근] / 과 [인덱스, 접근] 이 같다. "
   ]
  },
  {
   "cell_type": "code",
   "execution_count": 26,
   "id": "dd20dd91-2d75-4ead-bb87-7ee86ea1c3a8",
   "metadata": {},
   "outputs": [],
   "source": [
    "#3차원 데이터에서 인덱싱 접근 방법\n",
    "\n",
    "arr3d = np.array([[[1, 2, 3], \n",
    "          [4, 5, 6], \n",
    "          [7, 8, 9]],\n",
    "         \n",
    "        [[11, 12, 13],\n",
    "         [14, 15, 16],\n",
    "         [17, 18, 19]],\n",
    "\n",
    "        [[11, 22, 33], \n",
    "         [44, 55, 66], \n",
    "         [77, 88, 99]]])"
   ]
  },
  {
   "cell_type": "code",
   "execution_count": 27,
   "id": "470cfe9f-9236-4e6b-b19a-52326dd991d4",
   "metadata": {},
   "outputs": [
    {
     "name": "stdout",
     "output_type": "stream",
     "text": [
      "22\n",
      "22\n"
     ]
    }
   ],
   "source": [
    "print(arr3d[2][0][1])\n",
    "print(arr3d[2, 0, 1])"
   ]
  },
  {
   "cell_type": "code",
   "execution_count": 28,
   "id": "0252fa00-9e5f-442c-b9c4-6bafa0d5b6f3",
   "metadata": {},
   "outputs": [
    {
     "name": "stdout",
     "output_type": "stream",
     "text": [
      "[[[1 2 3]\n",
      "  [4 5 6]\n",
      "  [7 8 9]]]\n",
      "[[[4 5 6]\n",
      "  [7 8 9]]]\n",
      "[[[6]\n",
      "  [9]]]\n",
      "[[6]\n",
      " [9]]\n"
     ]
    }
   ],
   "source": [
    "print(arr3d[:1])\n",
    "#첫번째 부터 1번째 미만까지를 슬라이싱 하고 싶어요. \n",
    "print(arr3d[:1, 1:])\n",
    "\n",
    "#슬라이싱과 인덱싱 차이 -> 차원 유지 ([대괄호가 하나 줄어든 것을 볼 수 있음: 인덱싱 접근에서])\n",
    "print(arr3d[:1, 1:, 2:])\n",
    "print(arr3d[0, 1:, 2:])"
   ]
  },
  {
   "cell_type": "code",
   "execution_count": 29,
   "id": "a733834f-6c56-4123-a81c-fa0646ab95cc",
   "metadata": {},
   "outputs": [
    {
     "name": "stdout",
     "output_type": "stream",
     "text": [
      "[[[  1   2   3]\n",
      "  [  4   5 999]\n",
      "  [  7   8 999]]\n",
      "\n",
      " [[ 11  12  13]\n",
      "  [ 14  15  16]\n",
      "  [ 17  18  19]]\n",
      "\n",
      " [[ 11  22  33]\n",
      "  [ 44  55  66]\n",
      "  [ 77  88  99]]]\n"
     ]
    }
   ],
   "source": [
    "arr3d[0, 1:, 2:] = 999\n",
    "print(arr3d)"
   ]
  },
  {
   "cell_type": "markdown",
   "id": "d5f48f3e-1e6a-4147-a3ff-6136f41fda9a",
   "metadata": {},
   "source": [
    "## boolean 값으로 (데이터) 선택"
   ]
  },
  {
   "cell_type": "markdown",
   "id": "3feb8ddd-0e60-4d2a-a67e-8d4022541c42",
   "metadata": {},
   "source": [
    "데이터 비교: 각각의 아이템들의 순서에 맞게 비교를 하는 것을 확인 할 수 있었다. "
   ]
  },
  {
   "cell_type": "code",
   "execution_count": 30,
   "id": "9b0f21cd-5f19-4845-a687-8548e2d9a602",
   "metadata": {},
   "outputs": [
    {
     "name": "stdout",
     "output_type": "stream",
     "text": [
      "['hong' 'kim' 'hong' 'kim']\n",
      "[['math' '60']\n",
      " ['math' '90']\n",
      " ['eng' '70']\n",
      " ['eng' '50']]\n"
     ]
    }
   ],
   "source": [
    "# 두 사람의 수학, 영어 성적을 비교하는 2차원 데이터를 만든다고 가정해보자. \n",
    "\n",
    "names = np.array(['hong', 'kim', 'hong', 'kim'])\n",
    "data = np.array([['math', 60], ['math', 90], ['eng', 70], ['eng', 50]])\n",
    "print(names)\n",
    "print(data)"
   ]
  },
  {
   "cell_type": "code",
   "execution_count": 31,
   "id": "391be4de-7990-4479-9047-5cf9d2b58ac6",
   "metadata": {},
   "outputs": [
    {
     "data": {
      "text/plain": [
       "array([ True, False,  True, False])"
      ]
     },
     "execution_count": 31,
     "metadata": {},
     "output_type": "execute_result"
    }
   ],
   "source": [
    "names == 'hong'\n",
    "# np.array(['hong', 'kim', 'hong', 'kim']) 의 값과 'hong'을 비교해서 T/F로 반환해준 상태."
   ]
  },
  {
   "cell_type": "code",
   "execution_count": 32,
   "id": "a64b2f4b-c9f9-4219-b18d-75af18b8beda",
   "metadata": {},
   "outputs": [
    {
     "data": {
      "text/plain": [
       "array([['math', '60'],\n",
       "       ['eng', '70']], dtype='<U21')"
      ]
     },
     "execution_count": 32,
     "metadata": {},
     "output_type": "execute_result"
    }
   ],
   "source": [
    "data[[True, False, True, False]]\n",
    "data[names == 'hong']"
   ]
  },
  {
   "cell_type": "code",
   "execution_count": 33,
   "id": "7e4b1ff8-3574-4047-90b9-9cc4eccae997",
   "metadata": {},
   "outputs": [
    {
     "name": "stdout",
     "output_type": "stream",
     "text": [
      "['60' '70']\n",
      "[['math']\n",
      " ['eng']]\n"
     ]
    }
   ],
   "source": [
    "print(data[names == 'hong', 1])\n",
    "print(data[names == 'hong', :1])\n"
   ]
  },
  {
   "cell_type": "code",
   "execution_count": 34,
   "id": "8e92dbc6-e712-4e2e-bc90-2fe619bc2913",
   "metadata": {},
   "outputs": [
    {
     "name": "stdout",
     "output_type": "stream",
     "text": [
      "[False  True False  True]\n",
      "[False  True False  True]\n"
     ]
    }
   ],
   "source": [
    "print(names != 'hong')\n",
    "print(~(names == 'hong'))"
   ]
  },
  {
   "cell_type": "code",
   "execution_count": 35,
   "id": "48fb3287-3afd-4731-8ea3-433a8c63b056",
   "metadata": {},
   "outputs": [
    {
     "data": {
      "text/plain": [
       "array([['math', '90'],\n",
       "       ['eng', '50']], dtype='<U21')"
      ]
     },
     "execution_count": 35,
     "metadata": {},
     "output_type": "execute_result"
    }
   ],
   "source": [
    "cond = names == 'kim'\n",
    "data[cond]"
   ]
  },
  {
   "cell_type": "markdown",
   "id": "a1b1744c-8dce-4eb2-9316-ecb013b3205b",
   "metadata": {},
   "source": [
    "## 팬시 색인 (fancy indexing)\n",
    "### 특정한 요소에 있는 인덱싱을 골라낼 때\n",
    "- 행을 선택하거나\n",
    "- 열을 함께 선택할 수 있음. "
   ]
  },
  {
   "cell_type": "code",
   "execution_count": 36,
   "id": "17f00dc1-150a-4633-99e6-39fa830402eb",
   "metadata": {},
   "outputs": [
    {
     "name": "stdout",
     "output_type": "stream",
     "text": [
      "[[0. 0. 0. 0.]\n",
      " [1. 1. 1. 1.]\n",
      " [2. 2. 2. 2.]\n",
      " [3. 3. 3. 3.]\n",
      " [4. 4. 4. 4.]\n",
      " [5. 5. 5. 5.]\n",
      " [6. 6. 6. 6.]\n",
      " [7. 7. 7. 7.]]\n"
     ]
    }
   ],
   "source": [
    "arr = np.zeros((8, 4))\n",
    "for i in range(8): \n",
    "    arr[i] = i\n",
    "    # 같은 줄의 데이터에 같은 값을 넣게\n",
    "print(arr)"
   ]
  },
  {
   "cell_type": "code",
   "execution_count": 37,
   "id": "22da4e1f-207e-45ac-a686-189899ed052f",
   "metadata": {},
   "outputs": [
    {
     "data": {
      "text/plain": [
       "array([[4., 4., 4., 4.],\n",
       "       [3., 3., 3., 3.],\n",
       "       [0., 0., 0., 0.],\n",
       "       [5., 5., 5., 5.]])"
      ]
     },
     "execution_count": 37,
     "metadata": {},
     "output_type": "execute_result"
    }
   ],
   "source": [
    "arr[[4, 3, 0, 5]]\n",
    "# 직접적으로 [대괄호 안에 [대괄호를 쓰면서]] => 내가 원하는 행을 직접적으로 가져오게끔. \n",
    "# 순서도 내가 지정한대로 호출이 된다."
   ]
  },
  {
   "cell_type": "code",
   "execution_count": 38,
   "id": "6fb4455e-0aa6-4bce-90c5-aa6d13501c31",
   "metadata": {},
   "outputs": [
    {
     "data": {
      "text/plain": [
       "array([[5., 5., 5., 5.],\n",
       "       [3., 3., 3., 3.],\n",
       "       [7., 7., 7., 7.]])"
      ]
     },
     "execution_count": 38,
     "metadata": {},
     "output_type": "execute_result"
    }
   ],
   "source": [
    "arr[[-3, -5, -1]]"
   ]
  },
  {
   "cell_type": "code",
   "execution_count": 41,
   "id": "1f5a61e5-92ea-44e3-be34-653e1fcd4753",
   "metadata": {},
   "outputs": [
    {
     "name": "stdout",
     "output_type": "stream",
     "text": [
      "[[ 0  1  2  3]\n",
      " [ 4  5  6  7]\n",
      " [ 8  9 10 11]\n",
      " [12 13 14 15]\n",
      " [16 17 18 19]\n",
      " [20 21 22 23]\n",
      " [24 25 26 27]\n",
      " [28 29 30 31]]\n"
     ]
    }
   ],
   "source": [
    "arr = np.arange(32).reshape(8, 4)\n",
    "#reshape => 내가 가진 데이터의 행렬을 바꿔줄 때 사용함. \n",
    "print(arr)"
   ]
  },
  {
   "cell_type": "code",
   "execution_count": 42,
   "id": "c0df01b5-86f0-433b-a9be-8e9f3040759a",
   "metadata": {},
   "outputs": [
    {
     "data": {
      "text/plain": [
       "array([[ 6,  7],\n",
       "       [22, 23]])"
      ]
     },
     "execution_count": 42,
     "metadata": {},
     "output_type": "execute_result"
    }
   ],
   "source": [
    "arr[[1, 5], [2, 3]]\n",
    "arr[[1, 5]][:, [2, 3]]"
   ]
  },
  {
   "cell_type": "markdown",
   "id": "09b0685a-6d5b-4743-9f6f-982895988a08",
   "metadata": {},
   "source": [
    "## 배열 전치\n",
    "- 배열의 축을 바꾼다."
   ]
  },
  {
   "cell_type": "code",
   "execution_count": 43,
   "id": "8403b667-ba51-4384-bff1-e9c2c0f13906",
   "metadata": {},
   "outputs": [
    {
     "name": "stdout",
     "output_type": "stream",
     "text": [
      "[[ 0  1  2  3  4]\n",
      " [ 5  6  7  8  9]\n",
      " [10 11 12 13 14]]\n"
     ]
    }
   ],
   "source": [
    "arr = np.arange(15).reshape(3, 5)\n",
    "print(arr)"
   ]
  },
  {
   "cell_type": "code",
   "execution_count": 44,
   "id": "c44ed3d0-2d2a-4e96-9954-efc3e29b464d",
   "metadata": {},
   "outputs": [
    {
     "name": "stdout",
     "output_type": "stream",
     "text": [
      "[[ 0  5 10]\n",
      " [ 1  6 11]\n",
      " [ 2  7 12]\n",
      " [ 3  8 13]\n",
      " [ 4  9 14]]\n"
     ]
    }
   ],
   "source": [
    "print(arr.T)"
   ]
  },
  {
   "cell_type": "code",
   "execution_count": 47,
   "id": "4c10d9fe-6166-43e1-8451-90a10ebd7c92",
   "metadata": {},
   "outputs": [
    {
     "name": "stdout",
     "output_type": "stream",
     "text": [
      "[[ 30  80 130]\n",
      " [ 80 255 430]\n",
      " [130 430 730]]\n",
      "[[ 30  80 130]\n",
      " [ 80 255 430]\n",
      " [130 430 730]]\n"
     ]
    }
   ],
   "source": [
    "# 행렬의 곱셈은? \n",
    "#arr * 3 # => 요소 하나하나를 곱한다. \n",
    "\n",
    "#행렬의 내적, 곱\n",
    "print(arr @ arr.T)\n",
    "print(np.dot(arr, arr.T))"
   ]
  },
  {
   "cell_type": "markdown",
   "id": "9400cd37-aecf-4f7d-a58a-13bd810ea73d",
   "metadata": {},
   "source": [
    "## numpy 함수"
   ]
  },
  {
   "cell_type": "code",
   "execution_count": 48,
   "id": "6b864995-1118-479a-bc65-be5f9949dcde",
   "metadata": {},
   "outputs": [
    {
     "name": "stdout",
     "output_type": "stream",
     "text": [
      "[[-0.07763304 -1.39502583  2.67618963]\n",
      " [ 0.4185911  -0.47649566  0.08272651]\n",
      " [-0.18906933  0.5735723  -1.09820796]]\n"
     ]
    }
   ],
   "source": [
    "samples = np.random.standard_normal(size=(3, 3))\n",
    "print(samples)"
   ]
  },
  {
   "cell_type": "code",
   "execution_count": 50,
   "id": "f240ff20-77c9-4da1-9cf5-596606d740f6",
   "metadata": {},
   "outputs": [
    {
     "name": "stdout",
     "output_type": "stream",
     "text": [
      "[[       nan        nan 1.63590636]\n",
      " [0.64698617        nan 0.28762216]\n",
      " [       nan 0.75734556        nan]]\n"
     ]
    },
    {
     "name": "stderr",
     "output_type": "stream",
     "text": [
      "C:\\Users\\박수똥\\AppData\\Local\\Temp\\ipykernel_21840\\3157431161.py:1: RuntimeWarning: invalid value encountered in sqrt\n",
      "  arr1 = np.sqrt(samples)\n"
     ]
    }
   ],
   "source": [
    "arr1 = np.sqrt(samples)\n",
    "# 루트를 씌워줌\n",
    "# nan : 숫자가 아닙니다. (python의 none과 비슷하다.)\n",
    "# 여기서는 음수를 nan으로 보여줌 (=> 결측치)\n",
    "print(arr1)"
   ]
  },
  {
   "cell_type": "code",
   "execution_count": 51,
   "id": "d5fe1a2f-d777-484e-ab43-56b90ece4f46",
   "metadata": {},
   "outputs": [
    {
     "name": "stdout",
     "output_type": "stream",
     "text": [
      "[[0.07763304 1.39502583 2.67618963]\n",
      " [0.4185911  0.47649566 0.08272651]\n",
      " [0.18906933 0.5735723  1.09820796]]\n"
     ]
    }
   ],
   "source": [
    "arr2 = np.abs(samples)\n",
    "print(arr2)\n",
    "#absoulute; abs = 절댓값을 취한다. "
   ]
  },
  {
   "cell_type": "code",
   "execution_count": 52,
   "id": "bb49eef1-a7ac-434a-a3f5-5455606c0a33",
   "metadata": {},
   "outputs": [
    {
     "data": {
      "text/plain": [
       "array([[ True,  True, False],\n",
       "       [False,  True, False],\n",
       "       [ True, False,  True]])"
      ]
     },
     "execution_count": 52,
     "metadata": {},
     "output_type": "execute_result"
    }
   ],
   "source": [
    "np.isnan(arr1)\n",
    "# 현재 내가 가진 배열 (arr1) 에 'nan'이 포함되어있나요? "
   ]
  }
 ],
 "metadata": {
  "kernelspec": {
   "display_name": "Python 3 (ipykernel)",
   "language": "python",
   "name": "python3"
  },
  "language_info": {
   "codemirror_mode": {
    "name": "ipython",
    "version": 3
   },
   "file_extension": ".py",
   "mimetype": "text/x-python",
   "name": "python",
   "nbconvert_exporter": "python",
   "pygments_lexer": "ipython3",
   "version": "3.13.2"
  }
 },
 "nbformat": 4,
 "nbformat_minor": 5
}
